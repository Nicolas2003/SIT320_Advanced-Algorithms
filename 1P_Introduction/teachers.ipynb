{
 "cells": [
  {
   "cell_type": "markdown",
   "id": "abe52e26",
   "metadata": {},
   "source": [
    "from IPython.core.display import display, HTML\n",
    "display(HTML(\"<style>.container { width:85% !important; }</style>\"))"
   ]
  },
  {
   "cell_type": "code",
   "execution_count": null,
   "id": "8dd853e2",
   "metadata": {
    "lines_to_next_cell": 1
   },
   "outputs": [],
   "source": [
    "board={1:' ', 2:' ', 3:' ',\n",
    "       4:' ', 5:' ', 6:' ',\n",
    "       7:' ', 8:' ', 9:' '}"
   ]
  },
  {
   "cell_type": "code",
   "execution_count": null,
   "id": "59e23001",
   "metadata": {},
   "outputs": [],
   "source": [
    "#function to print the board\n",
    "def printBoard(board):\n",
    "    print(board[1] + '|' + board[2] + '|' + board[3])\n",
    "    print('-+-+-')\n",
    "    print(board[4] + '|' + board[5] + '|' + board[6])\n",
    "    print('-+-+-')\n",
    "    print(board[7] + '|' + board[8] + '|' + board[9])\n",
    "    print()"
   ]
  },
  {
   "cell_type": "code",
   "execution_count": null,
   "id": "81351f60",
   "metadata": {
    "lines_to_next_cell": 1
   },
   "outputs": [],
   "source": [
    "# function to check is a certain position in the board is empty.\n",
    "def spaceIsFree(position):\n",
    "    return board[position] == ' '"
   ]
  },
  {
   "cell_type": "code",
   "execution_count": null,
   "id": "9b588d36",
   "metadata": {},
   "outputs": [],
   "source": [
    "# method to insert player in space\n",
    "# Issue: Different concern mixed in one function\n",
    "#\n",
    "def addMove(player, position):\n",
    "    if spaceIsFree(position):\n",
    "        board[position] = player\n",
    "        # printBoard(board)\n",
    "\n",
    "        if chkForWin():\n",
    "            if player == 'X':\n",
    "                print('Bot wins!')\n",
    "            else:\n",
    "                print('You win!')\n",
    "            return\n",
    "        elif chkBoardFull():\n",
    "            print('Draw!')\n",
    "            return\n",
    "\n",
    "    else:\n",
    "        print('Position taken, please pick a different position.')\n",
    "        position = int(input('Enter new position: '))\n",
    "        addMove(player, position)\n",
    "        return"
   ]
  },
  {
   "cell_type": "code",
   "execution_count": null,
   "id": "0a8e8110",
   "metadata": {},
   "outputs": [],
   "source": [
    "# function to check if board is draw\n",
    "# Issue: Not checking for a draw. It is checking if all the positions are already occupied\n",
    "#\n",
    "def chkBoardFull():\n",
    "    for key in board.keys():\n",
    "        if board[key] == ' ':\n",
    "            return False\n",
    "    return True"
   ]
  },
  {
   "cell_type": "code",
   "execution_count": null,
   "id": "8cff7b3c",
   "metadata": {},
   "outputs": [],
   "source": [
    "# function to check if one user has won\n",
    "def chkForWin():\n",
    "    if (board[1] == board[2] and board[1] == board[3] and board[1] != ' '):\n",
    "        return True\n",
    "    elif (board[4] == board[5] and board[4] == board[6] and board[4] != ' '):\n",
    "        return True\n",
    "    elif (board[7] == board[8] and board[7] == board[9] and board[7] != ' '):\n",
    "        return True\n",
    "    elif (board[1] == board[5] and board[1] == board[9] and board[1] != ' '):\n",
    "        return True\n",
    "    elif (board[3] == board[5] and board[3] == board[7] and board[3] != ' '):\n",
    "        return True\n",
    "    elif (board[1] == board[4] and board[1] == board[7] and board[1] != ' '):\n",
    "        return True\n",
    "    elif (board[2] == board[5] and board[2] == board[8] and board[2] != ' '):\n",
    "        return True\n",
    "    elif (board[3] == board[6] and board[3] == board[9] and board[3] != ' '):\n",
    "        return True\n",
    "    else:\n",
    "        return False"
   ]
  },
  {
   "cell_type": "code",
   "execution_count": null,
   "id": "85618370",
   "metadata": {
    "lines_to_next_cell": 1
   },
   "outputs": [],
   "source": [
    "# function to check who won\n",
    "def chkMarkForWin(mark):\n",
    "    if (board[1] == board[2] and board[1] == board[3] and board[1] == mark):\n",
    "        return True\n",
    "    elif (board[4] == board[5] and board[4] == board[6] and board[4] == mark):\n",
    "        return True\n",
    "    elif (board[7] == board[8] and board[7] == board[9] and board[7] == mark):\n",
    "        return True\n",
    "    elif (board[1] == board[5] and board[1] == board[9] and board[1] == mark):\n",
    "        return True\n",
    "    elif (board[3] == board[5] and board[3] == board[7] and board[3] == mark):\n",
    "        return True\n",
    "    elif (board[1] == board[4] and board[1] == board[7] and board[1] == mark):\n",
    "        return True\n",
    "    elif (board[2] == board[5] and board[2] == board[8] and board[2] == mark):\n",
    "        return True\n",
    "    elif (board[3] == board[6] and board[3] == board[9] and board[3] == mark):\n",
    "        return True\n",
    "    else:\n",
    "        return False"
   ]
  },
  {
   "cell_type": "code",
   "execution_count": null,
   "id": "2ab54afc",
   "metadata": {},
   "outputs": [],
   "source": [
    "player = 'O'\n",
    "bot ='X'"
   ]
  },
  {
   "cell_type": "code",
   "execution_count": null,
   "id": "2866b044",
   "metadata": {
    "lines_to_next_cell": 1
   },
   "outputs": [],
   "source": [
    "# function for player move\n",
    "# Issue: No need for return\n",
    "#\n",
    "def playerMove():\n",
    "    position = int(input('Enter position for O: '))\n",
    "    addMove(player, position)"
   ]
  },
  {
   "cell_type": "code",
   "execution_count": null,
   "id": "f2dc8fb7",
   "metadata": {},
   "outputs": [],
   "source": [
    "# function for bot move\n",
    "def compMove():\n",
    "    bestScore = -1000  # lowest to start with, for comparison to the score after a certain move\n",
    "    bestMove = None ### —> Should be None instead of zero\n",
    "\n",
    "    for key in board.keys():\n",
    "        if board[key] == ' ':\n",
    "            board[key] = bot\n",
    "\n",
    "            if chkMarkForWin(bot):\n",
    "                addMove(bot, key)\n",
    "                return\n",
    "\n",
    "            board[key] = ' '  # undo the move\n",
    "\n",
    "    for key in board.keys():  # for loop to find empty slots, make a move, calculate the score and see if it's higher than best score\n",
    "        if (board[key] == ' '):\n",
    "            board[key] = bot\n",
    "            score = minimax(board, 0, False)  # calculate the score\n",
    "            board[key] = ' '  # set board back to what it was\n",
    "            if (score > bestScore):  # compare the score from a certain move to the best score.\n",
    "                bestScore = score\n",
    "                bestMove = key\n",
    "\n",
    "    # at the end of the loop, we have the best move figured out.\n",
    "\n",
    "    if bestScore is not None:\n",
    "        addMove(bot, bestMove)"
   ]
  },
  {
   "cell_type": "code",
   "execution_count": null,
   "id": "e047e29f",
   "metadata": {},
   "outputs": [],
   "source": [
    "# Issue: The depth is always set to 0 and never considered when calculating the best move\n",
    "#\n",
    "def minimax(board, depth, isMaximizing):\n",
    "    if (chkMarkForWin(bot)):\n",
    "        return 10 - depth\n",
    "    elif (chkMarkForWin(player)):\n",
    "        return depth - 10\n",
    "    elif (chkBoardFull()):\n",
    "        return 0\n",
    "\n",
    "    if isMaximizing:\n",
    "        bestScore = -1000 # This is set to low as the best score\n",
    "\n",
    "        for key in board.keys():\n",
    "            if board[key] == ' ':\n",
    "                board[key] = bot\n",
    "                score = minimax(board, depth + 1, False)\n",
    "                board[key] = ' '\n",
    "                if score > bestScore:\n",
    "                    bestScore = score\n",
    "        return bestScore\n",
    "\n",
    "    else:\n",
    "        bestScore = 1000 # This is set to low as the best score\n",
    "\n",
    "        for key in board.keys():\n",
    "            if board[key] == ' ':\n",
    "                board[key] = player\n",
    "                score = minimax(board, depth + 1, True)\n",
    "                board[key] = ' '\n",
    "                if score < bestScore:\n",
    "                    bestScore = score\n",
    "        return bestScore"
   ]
  },
  {
   "cell_type": "code",
   "execution_count": null,
   "id": "e59424f9",
   "metadata": {},
   "outputs": [],
   "source": [
    "def main():\n",
    "    running = True\n",
    "    while running:\n",
    "        printBoard(board)\n",
    "        playerMove()\n",
    "\n",
    "        if chkBoardFull() or chkForWin():\n",
    "            running = False\n",
    "        else:\n",
    "            compMove()\n",
    "            running = not chkForWin()\n",
    "\n",
    "    printBoard(board)"
   ]
  },
  {
   "cell_type": "code",
   "execution_count": null,
   "id": "932d7c88",
   "metadata": {},
   "outputs": [],
   "source": [
    "if __name__ == '__main__':\n",
    "    main()"
   ]
  }
 ],
 "metadata": {
  "jupytext": {
   "cell_metadata_filter": "-all",
   "main_language": "python",
   "notebook_metadata_filter": "-all"
  }
 },
 "nbformat": 4,
 "nbformat_minor": 5
}
